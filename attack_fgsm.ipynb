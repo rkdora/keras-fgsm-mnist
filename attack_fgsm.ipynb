{
 "cells": [
  {
   "cell_type": "code",
   "execution_count": 1,
   "metadata": {},
   "outputs": [
    {
     "name": "stderr",
     "output_type": "stream",
     "text": [
      "Using TensorFlow backend.\n"
     ]
    }
   ],
   "source": [
    "import keras\n",
    "from keras.datasets import mnist\n",
    "from keras.models import model_from_json\n",
    "from keras.utils import np_utils\n",
    "from keras.optimizers import RMSprop\n",
    "\n",
    "from keras import backend as K\n",
    "from keras import losses\n",
    "\n",
    "import numpy as np\n",
    "import matplotlib.pyplot as plt"
   ]
  },
  {
   "cell_type": "code",
   "execution_count": 2,
   "metadata": {},
   "outputs": [],
   "source": [
    "num_classes = 10"
   ]
  },
  {
   "cell_type": "code",
   "execution_count": 3,
   "metadata": {},
   "outputs": [
    {
     "name": "stdout",
     "output_type": "stream",
     "text": [
      "60000 train samples\n",
      "10000 test samples\n"
     ]
    }
   ],
   "source": [
    "(X_train, y_train), (X_test, y_test) = mnist.load_data()\n",
    "\n",
    "X_train = X_train.reshape(60000, 784).astype('float32') / 255\n",
    "X_test  = X_test.reshape(10000, 784).astype('float32') / 255\n",
    "\n",
    "print(X_train.shape[0], 'train samples')\n",
    "print(X_test.shape[0], 'test samples')\n",
    "\n",
    "y_train = keras.utils.to_categorical(y_train, num_classes)\n",
    "y_test = keras.utils.to_categorical(y_test, num_classes)"
   ]
  },
  {
   "cell_type": "code",
   "execution_count": 4,
   "metadata": {},
   "outputs": [
    {
     "name": "stdout",
     "output_type": "stream",
     "text": [
      "WARNING:tensorflow:From /home/ryuto/anaconda3/lib/python3.7/site-packages/keras/backend/tensorflow_backend.py:541: The name tf.placeholder is deprecated. Please use tf.compat.v1.placeholder instead.\n",
      "\n",
      "WARNING:tensorflow:From /home/ryuto/anaconda3/lib/python3.7/site-packages/keras/backend/tensorflow_backend.py:4432: The name tf.random_uniform is deprecated. Please use tf.random.uniform instead.\n",
      "\n",
      "WARNING:tensorflow:From /home/ryuto/anaconda3/lib/python3.7/site-packages/keras/backend/tensorflow_backend.py:66: The name tf.get_default_graph is deprecated. Please use tf.compat.v1.get_default_graph instead.\n",
      "\n",
      "WARNING:tensorflow:From /home/ryuto/anaconda3/lib/python3.7/site-packages/keras/backend/tensorflow_backend.py:148: The name tf.placeholder_with_default is deprecated. Please use tf.compat.v1.placeholder_with_default instead.\n",
      "\n",
      "WARNING:tensorflow:From /home/ryuto/anaconda3/lib/python3.7/site-packages/keras/backend/tensorflow_backend.py:3733: calling dropout (from tensorflow.python.ops.nn_ops) with keep_prob is deprecated and will be removed in a future version.\n",
      "Instructions for updating:\n",
      "Please use `rate` instead of `keep_prob`. Rate should be set to `rate = 1 - keep_prob`.\n",
      "WARNING:tensorflow:From /home/ryuto/anaconda3/lib/python3.7/site-packages/keras/backend/tensorflow_backend.py:190: The name tf.get_default_session is deprecated. Please use tf.compat.v1.get_default_session instead.\n",
      "\n",
      "Model: \"sequential_1\"\n",
      "_________________________________________________________________\n",
      "Layer (type)                 Output Shape              Param #   \n",
      "=================================================================\n",
      "dense_1 (Dense)              (None, 512)               401920    \n",
      "_________________________________________________________________\n",
      "dropout_1 (Dropout)          (None, 512)               0         \n",
      "_________________________________________________________________\n",
      "dense_2 (Dense)              (None, 512)               262656    \n",
      "_________________________________________________________________\n",
      "dropout_2 (Dropout)          (None, 512)               0         \n",
      "_________________________________________________________________\n",
      "dense_3 (Dense)              (None, 10)                5130      \n",
      "=================================================================\n",
      "Total params: 669,706\n",
      "Trainable params: 669,706\n",
      "Non-trainable params: 0\n",
      "_________________________________________________________________\n",
      "WARNING:tensorflow:From /home/ryuto/anaconda3/lib/python3.7/site-packages/keras/optimizers.py:793: The name tf.train.Optimizer is deprecated. Please use tf.compat.v1.train.Optimizer instead.\n",
      "\n"
     ]
    }
   ],
   "source": [
    "# モデルを読み込む\n",
    "model = model_from_json(open('mnist_mlp_model.json').read())\n",
    "\n",
    "# 学習結果を読み込む\n",
    "model.load_weights('mnist_mlp_weights.h5')\n",
    "\n",
    "model.summary();\n",
    "\n",
    "model.compile(loss='categorical_crossentropy',\n",
    "              optimizer=RMSprop(),\n",
    "              metrics=['accuracy'])"
   ]
  },
  {
   "cell_type": "code",
   "execution_count": 5,
   "metadata": {},
   "outputs": [
    {
     "name": "stdout",
     "output_type": "stream",
     "text": [
      "Test loss : 0.10931811571954518\n",
      "Test accuracy : 0.9842\n"
     ]
    }
   ],
   "source": [
    "score = model.evaluate(X_test, y_test, verbose=0)\n",
    "print('Test loss :', score[0])\n",
    "print('Test accuracy :', score[1])"
   ]
  },
  {
   "cell_type": "code",
   "execution_count": 6,
   "metadata": {},
   "outputs": [
    {
     "data": {
      "image/png": "[encoded data removed]",
      "text/plain": [
       "<Figure size 432x288 with 1 Axes>"
      ]
     },
     "metadata": {
      "needs_background": "light"
     },
     "output_type": "display_data"
    }
   ],
   "source": [
    "x = X_test[0]\n",
    "plt.imshow(x.reshape(28,28), 'gray')\n",
    "plt.show()"
   ]
  },
  {
   "cell_type": "code",
   "execution_count": 7,
   "metadata": {},
   "outputs": [
    {
     "data": {
      "text/plain": [
       "array([[0., 0., 0., 0., 0., 0., 0., 1., 0., 0.]], dtype=float32)"
      ]
     },
     "execution_count": 7,
     "metadata": {},
     "output_type": "execute_result"
    }
   ],
   "source": [
    "y_true = y_test[0].reshape(1,-1)\n",
    "y_true"
   ]
  },
  {
   "cell_type": "code",
   "execution_count": 8,
   "metadata": {
    "scrolled": true
   },
   "outputs": [
    {
     "data": {
      "text/plain": [
       "array([[1.3359890e-32, 1.9986496e-20, 5.1875146e-24, 2.8469728e-24,\n",
       "        1.6181472e-29, 4.0880136e-28, 0.0000000e+00, 1.0000000e+00,\n",
       "        1.4397638e-30, 2.0887911e-19]], dtype=float32)"
      ]
     },
     "execution_count": 8,
     "metadata": {},
     "output_type": "execute_result"
    }
   ],
   "source": [
    "y_pred = model.predict(x.reshape(1,-1), batch_size=1)\n",
    "y_pred"
   ]
  },
  {
   "cell_type": "code",
   "execution_count": 12,
   "metadata": {},
   "outputs": [
    {
     "data": {
      "text/plain": [
       "(1, 784)"
      ]
     },
     "execution_count": 12,
     "metadata": {},
     "output_type": "execute_result"
    }
   ],
   "source": [
    "X = np.expand_dims(x, axis=0)\n",
    "X.shape"
   ]
  },
  {
   "cell_type": "code",
   "execution_count": 18,
   "metadata": {},
   "outputs": [
    {
     "data": {
      "text/plain": [
       "<tf.Tensor 'strided_slice_4:0' shape=(?,) dtype=float32>"
      ]
     },
     "execution_count": 18,
     "metadata": {},
     "output_type": "execute_result"
    }
   ],
   "source": [
    " # 予測クラスの算出\n",
    "predictions = model.predict(X)\n",
    "class_idx = np.argmax(predictions[0])\n",
    "class_output = model.output[:, class_idx]"
   ]
  },
  {
   "cell_type": "code",
   "execution_count": 32,
   "metadata": {},
   "outputs": [
    {
     "name": "stdout",
     "output_type": "stream",
     "text": [
      "[array([[ 6.85365537e-20, -8.58350975e-20, -8.82569402e-21,\n",
      "         1.38035765e-20, -1.50563493e-19, -3.13077457e-20,\n",
      "        -5.55283760e-22, -1.18435927e-19, -5.90549119e-20,\n",
      "        -1.13783114e-19,  5.88016848e-20,  7.02014486e-20,\n",
      "         1.09140860e-20, -8.98080719e-20,  6.10637653e-20,\n",
      "        -7.25500599e-20,  5.98250882e-20, -8.23470255e-21,\n",
      "        -1.32553212e-19,  7.38061013e-20,  2.06623739e-20,\n",
      "        -1.92886783e-19,  1.50921365e-20, -1.44212801e-20,\n",
      "        -1.08468129e-20,  1.50362436e-19, -1.61144735e-20,\n",
      "         6.08809325e-20, -1.69426054e-19, -3.30825845e-20,\n",
      "         1.67529355e-19,  3.59480416e-21, -9.17178574e-20,\n",
      "         1.39791294e-20, -8.40684982e-20, -5.56461006e-20,\n",
      "        -3.21051349e-20,  9.38967158e-20,  1.53288355e-19,\n",
      "         1.04256041e-19, -8.86455923e-20,  4.27575087e-20,\n",
      "         2.17765739e-19,  2.22574890e-19,  2.23301646e-19,\n",
      "        -1.86210537e-20,  4.85352974e-20, -4.11680424e-20,\n",
      "        -1.17008032e-19,  1.32061970e-20,  5.12160832e-20,\n",
      "        -1.91405458e-20, -7.95911505e-20,  1.68086887e-19,\n",
      "         1.77037718e-19, -1.27645833e-19, -1.39023056e-19,\n",
      "         1.00589932e-19, -5.03445450e-20, -1.63820510e-19,\n",
      "         1.62381629e-20,  1.03448190e-19, -9.93356222e-20,\n",
      "         1.37093335e-19,  8.81598240e-20,  1.29976376e-20,\n",
      "         2.27146924e-19,  5.80640155e-19,  6.85990239e-19,\n",
      "         6.25110108e-19,  5.14947073e-19,  2.43713930e-19,\n",
      "         3.91884505e-20,  3.35262474e-20,  1.29683063e-19,\n",
      "        -1.03380800e-19, -2.83811045e-19, -1.41749909e-19,\n",
      "        -1.66499024e-19, -2.63145540e-20,  8.29636305e-20,\n",
      "        -5.72809133e-20,  1.39572111e-19,  1.79697711e-19,\n",
      "        -9.87413381e-20,  1.36830265e-19, -1.10139564e-19,\n",
      "        -1.83863613e-19,  1.14045782e-19, -1.65273582e-19,\n",
      "         1.01570496e-19,  1.02529968e-19,  3.42351522e-19,\n",
      "         2.98033433e-19,  8.37433826e-19,  7.35103985e-19,\n",
      "         2.61532719e-19,  1.90578122e-19, -5.12069422e-20,\n",
      "        -7.98960700e-20,  7.91935545e-20, -6.30583045e-21,\n",
      "         3.01845857e-19,  4.96072363e-19,  3.98471151e-19,\n",
      "        -3.80846620e-20, -7.07169695e-20, -2.65808519e-19,\n",
      "        -2.64392851e-19, -2.10059689e-20, -4.02193147e-20,\n",
      "         6.45559603e-20, -1.00434952e-19,  3.92455002e-20,\n",
      "        -5.56483366e-20,  1.77326030e-19,  3.26958233e-19,\n",
      "         1.31348656e-19,  3.26964592e-19,  3.78769466e-19,\n",
      "         2.93925215e-19,  4.79453270e-21, -8.78885605e-20,\n",
      "        -1.60542496e-19, -8.15745099e-20, -3.54845749e-19,\n",
      "        -8.72699586e-20, -1.16418278e-19,  1.73169977e-19,\n",
      "        -1.22777022e-19,  4.08481820e-19,  2.80008909e-19,\n",
      "         6.22097723e-19, -5.62996056e-20, -1.32927265e-19,\n",
      "         4.44708453e-20, -2.22496696e-19, -2.94760021e-19,\n",
      "         9.54076096e-21, -1.45321869e-19,  7.54260183e-20,\n",
      "        -2.41464722e-19,  6.55611204e-20,  5.66898539e-20,\n",
      "         2.43170782e-19,  5.79085365e-19,  5.78687336e-19,\n",
      "         7.72977793e-19,  9.90303318e-19,  5.48823066e-19,\n",
      "         2.02591693e-19, -3.57201998e-19, -4.91249021e-19,\n",
      "        -1.96446813e-19, -3.76999248e-19, -3.43160013e-19,\n",
      "        -2.65617517e-19, -2.51394147e-19, -5.29182593e-19,\n",
      "        -3.85417310e-19, -4.19485933e-19, -1.25892934e-19,\n",
      "         4.16454290e-20, -1.85087620e-19, -1.70277145e-19,\n",
      "        -9.23958999e-20, -6.45479147e-20, -2.23938245e-20,\n",
      "         1.25587898e-19,  6.27856193e-20,  4.88345824e-19,\n",
      "         9.09238584e-19,  9.83629004e-19,  6.59780401e-19,\n",
      "         6.38512864e-19,  8.55690220e-19,  7.19493691e-19,\n",
      "         7.55774453e-19,  4.29441749e-19,  1.61030352e-19,\n",
      "         3.15680349e-19, -8.86392592e-20, -1.10095891e-19,\n",
      "        -4.78432167e-19, -3.91431921e-19, -1.79864337e-19,\n",
      "        -4.44375694e-19,  3.37897542e-19,  4.01478314e-19,\n",
      "         4.56428491e-19,  7.69811372e-20,  2.93790126e-20,\n",
      "        -2.62428374e-19, -3.15999796e-19, -1.68056191e-19,\n",
      "        -4.31050667e-20, -5.16204775e-20,  4.11457111e-19,\n",
      "         9.01744741e-19,  1.18625310e-18,  2.85904458e-19,\n",
      "         3.31506382e-19,  6.95961850e-19,  5.92401939e-19,\n",
      "         1.52854085e-19,  3.20657521e-19,  4.45565697e-19,\n",
      "         5.22814336e-19,  7.34211716e-20, -5.35345450e-19,\n",
      "        -2.99170264e-19, -7.45564769e-19, -4.44509594e-19,\n",
      "        -1.49674532e-19, -3.30624298e-19,  4.95607526e-20,\n",
      "        -4.01163824e-20,  3.64143853e-19,  3.91787583e-19,\n",
      "         3.28331715e-19, -3.01458452e-19, -2.04943432e-19,\n",
      "        -1.67348816e-20,  9.58027596e-20,  5.33167116e-20,\n",
      "         6.09280043e-19,  1.06547522e-18,  9.81077255e-19,\n",
      "         6.28166127e-19,  3.33429629e-19,  1.16848800e-19,\n",
      "         2.03688108e-19,  1.91963495e-19,  4.36420853e-19,\n",
      "         7.05903372e-19,  4.06601250e-19,  5.32186551e-19,\n",
      "        -3.26198675e-19,  1.11950572e-19,  1.26334326e-19,\n",
      "        -8.36503003e-20, -1.14700483e-19,  9.78748470e-20,\n",
      "        -1.57595097e-19, -2.22739576e-20,  1.96188345e-19,\n",
      "         3.30477680e-19,  3.90004233e-19,  1.36004972e-19,\n",
      "        -3.52901642e-19,  1.40733963e-19,  1.53371021e-19,\n",
      "         1.75798434e-19,  7.76884723e-19,  7.50466435e-19,\n",
      "         1.23280858e-18,  4.00754609e-19,  4.58070289e-19,\n",
      "         5.20456665e-19,  5.04412359e-19,  3.25115533e-19,\n",
      "         9.20484130e-20,  4.73746189e-19,  2.28407470e-19,\n",
      "         2.91859150e-19, -1.13225245e-19, -1.57371099e-19,\n",
      "        -7.87577531e-20, -2.51880581e-19, -1.10634890e-20,\n",
      "         7.11831930e-19,  6.82275888e-20, -7.18117043e-20,\n",
      "        -1.66629486e-19,  4.66924120e-19,  5.13328643e-19,\n",
      "        -1.17422165e-21,  1.63090859e-19, -1.79311366e-19,\n",
      "         2.93867467e-19,  4.27870727e-19,  5.38178492e-19,\n",
      "         6.71119342e-19,  3.23164266e-19,  3.36359503e-19,\n",
      "         4.40635442e-19,  1.70799109e-19, -1.22148275e-19,\n",
      "        -1.92957197e-19,  3.31234977e-20,  1.74831214e-19,\n",
      "         7.60456993e-20, -1.93658594e-19, -6.45462060e-19,\n",
      "        -1.26815318e-18, -8.27162363e-19, -1.78544880e-19,\n",
      "         2.69407504e-19,  2.77649738e-19,  1.86628154e-19,\n",
      "         2.55645648e-19,  6.73929636e-20, -1.19403056e-19,\n",
      "        -1.38637849e-19, -2.63286522e-19,  3.95846869e-19,\n",
      "         3.24565768e-20,  7.96051221e-20,  1.77694745e-19,\n",
      "         6.31486895e-19,  1.02280138e-18,  6.42161041e-19,\n",
      "         5.09286211e-19, -5.13737580e-20,  5.68481815e-20,\n",
      "        -3.26727993e-19, -7.51505012e-19, -6.05505411e-19,\n",
      "        -5.70717503e-19, -3.76265280e-19, -9.30501882e-19,\n",
      "        -1.32259252e-18, -1.36972031e-18, -9.56888323e-19,\n",
      "        -7.85249638e-19, -2.32524425e-19,  1.54357434e-19,\n",
      "         1.23308357e-19, -9.16703785e-20, -1.53637684e-19,\n",
      "        -6.33213118e-19, -4.36897361e-19,  6.70790744e-20,\n",
      "         6.56420032e-19,  1.15428686e-19,  4.09378148e-20,\n",
      "         2.36022546e-19,  5.14676223e-19,  5.71079911e-19,\n",
      "         5.84649241e-19, -1.54096717e-19, -4.64353553e-19,\n",
      "        -7.45694016e-19, -7.85652165e-19, -1.24513244e-18,\n",
      "        -1.16208784e-18, -6.41826084e-19, -6.70794725e-19,\n",
      "        -4.36006177e-19, -1.24231981e-18, -1.35574509e-18,\n",
      "        -4.18459376e-19, -4.81554671e-19, -7.75793723e-19,\n",
      "        -7.64857853e-20, -5.73884467e-19, -5.92568616e-19,\n",
      "        -8.84646504e-19, -4.18011793e-19, -3.80621627e-19,\n",
      "        -2.83043111e-21,  4.83673597e-19,  8.65395581e-20,\n",
      "         5.27240690e-20, -5.57445545e-20,  4.20025720e-19,\n",
      "         6.50134441e-19,  7.20855334e-19, -8.96286176e-19,\n",
      "        -4.36657892e-19, -1.08704705e-18, -7.48726667e-19,\n",
      "        -8.32413771e-19, -5.27619170e-19, -9.42091445e-20,\n",
      "        -3.79598043e-19, -8.45331799e-19, -1.35589254e-18,\n",
      "        -1.14944873e-18, -9.32299966e-19, -7.18024722e-19,\n",
      "        -3.14427894e-19, -3.60335410e-19, -1.00552272e-18,\n",
      "        -7.41113090e-19, -5.37396083e-19, -3.86832280e-19,\n",
      "        -4.94543629e-19,  8.75552196e-20,  6.28878485e-19,\n",
      "         3.74187299e-19, -1.91032419e-20,  3.31879240e-20,\n",
      "         2.00717263e-19,  7.06487930e-19,  8.05093960e-19,\n",
      "        -9.65589643e-19, -3.23042438e-19, -4.39896563e-19,\n",
      "        -5.42663776e-19, -6.16978251e-19, -2.09881959e-19,\n",
      "        -1.65705060e-19, -3.71402699e-19, -1.21326468e-18,\n",
      "        -1.59720863e-18, -6.03032037e-19, -4.07990319e-19,\n",
      "        -5.97579883e-19, -3.63359764e-19, -5.66576327e-19,\n",
      "        -4.85498254e-19, -5.79168083e-19,  5.42110392e-20,\n",
      "        -9.74284474e-20, -2.36528134e-19,  3.94328604e-19,\n",
      "         1.85180071e-19,  3.29030786e-19,  2.44687082e-19,\n",
      "         8.26512987e-20, -1.15664898e-19,  3.88704991e-19,\n",
      "         7.14307062e-19, -1.63905968e-19,  5.17042942e-20,\n",
      "        -6.14253983e-19, -1.88666172e-19, -8.03129302e-19,\n",
      "        -4.65839738e-19, -7.33512800e-19, -1.10756651e-18,\n",
      "        -1.68438674e-18, -1.19740122e-18, -6.42086129e-19,\n",
      "        -3.74097033e-19, -6.57810212e-19,  1.30225267e-19,\n",
      "        -1.66938231e-19, -3.70119148e-19, -3.37514583e-19,\n",
      "         1.81544353e-19, -1.13060778e-19,  2.73624936e-19,\n",
      "         1.96482848e-19,  2.02977805e-19,  7.13159762e-19,\n",
      "        -1.24606694e-19,  9.41930209e-20,  4.44313668e-20,\n",
      "         5.90271174e-19,  3.05867661e-19, -1.21140756e-19,\n",
      "        -6.41734991e-20, -2.98811733e-19, -3.43895299e-19,\n",
      "        -1.03493555e-19, -4.03698493e-19, -6.35555228e-19,\n",
      "        -5.88745181e-19, -8.55348594e-19, -8.20970089e-19,\n",
      "         1.18313401e-19,  4.74485017e-22,  7.47424892e-20,\n",
      "         2.17229209e-19, -1.25290566e-19,  1.48491612e-19,\n",
      "        -5.81994327e-20,  3.08827933e-19, -7.58904737e-20,\n",
      "        -3.29761884e-19,  7.27467286e-20,  1.87640959e-19,\n",
      "         6.91221847e-19,  8.73418393e-21, -4.06025837e-20,\n",
      "        -3.90198059e-20,  3.43081741e-19,  3.01663593e-20,\n",
      "        -1.71701731e-19, -3.66171208e-21, -5.82291104e-19,\n",
      "        -4.40301209e-19, -1.42273230e-19,  3.83131707e-20,\n",
      "         2.31618068e-19,  1.30051275e-19, -4.92650161e-19,\n",
      "        -3.39704931e-19,  1.73209165e-19,  1.30026097e-19,\n",
      "         2.50467084e-19,  1.35931430e-19,  7.88753614e-20,\n",
      "         7.86816396e-20,  8.87498558e-21,  3.42664428e-19,\n",
      "         1.07215791e-20, -1.64019382e-19, -1.73810615e-19,\n",
      "         6.82125652e-19,  6.08897678e-19,  2.00089420e-19,\n",
      "         5.83152509e-20, -4.37766986e-20,  3.17760140e-19,\n",
      "         3.11295439e-19,  6.03919331e-20, -2.27262445e-19,\n",
      "        -4.13423578e-19,  7.42071224e-20, -7.81417362e-20,\n",
      "         2.92813872e-19,  1.11024621e-19, -3.61869960e-19,\n",
      "        -2.77653176e-19, -4.64353346e-20,  4.66514769e-19,\n",
      "         3.33665711e-19,  1.48532609e-19,  4.08488928e-20,\n",
      "         5.07423607e-19, -2.46021195e-19,  1.17072177e-19,\n",
      "        -1.49736493e-21,  1.52620251e-19, -2.08360941e-19,\n",
      "        -4.30886136e-20,  8.01177311e-19,  4.39171797e-19,\n",
      "         1.37427451e-19, -5.07738453e-20,  1.40303235e-19,\n",
      "         3.13697623e-19,  1.73744531e-19, -1.63485320e-19,\n",
      "        -4.15536119e-19, -5.00738023e-19, -1.95908965e-19,\n",
      "         6.45851507e-20,  3.27497348e-20, -5.46141967e-19,\n",
      "         1.30868762e-20, -2.61445038e-20,  1.36843720e-20,\n",
      "         1.72719900e-19,  1.70547504e-19, -1.27833914e-19,\n",
      "        -8.68397472e-22, -2.05161148e-19, -4.10647611e-19,\n",
      "        -2.04041172e-19, -4.03614198e-19, -3.69154267e-19,\n",
      "        -3.69983361e-19, -1.08010039e-19,  3.25848131e-19,\n",
      "         2.81464876e-19,  1.76011304e-19, -2.59699531e-19,\n",
      "         1.76374707e-19,  2.61308165e-19,  1.64073872e-19,\n",
      "         3.20492628e-19, -3.92393648e-19, -2.89018586e-20,\n",
      "        -5.31939172e-20, -4.66266925e-19, -3.50107141e-19,\n",
      "        -1.70112381e-19,  1.44354520e-19,  4.45983992e-20,\n",
      "         1.54731682e-19, -2.40134926e-20,  1.06442687e-19,\n",
      "        -1.22994054e-19, -5.98391451e-19, -2.95912594e-19,\n",
      "        -2.76576859e-19, -1.29913497e-20, -5.57614342e-19,\n",
      "        -3.57339362e-19, -3.36063243e-19, -4.27621357e-21,\n",
      "         5.51243914e-19,  3.86782391e-19,  6.40181959e-20,\n",
      "         6.40686152e-20,  1.52523743e-19,  8.31403951e-20,\n",
      "         5.78842433e-19, -5.18439520e-20, -2.15196542e-19,\n",
      "        -5.58398199e-19, -6.21227426e-19, -5.75645225e-19,\n",
      "        -5.66415233e-19,  5.04137218e-19,  7.69351692e-19,\n",
      "         2.29878326e-19,  6.71580185e-21, -7.89852472e-20,\n",
      "        -1.49389491e-19, -2.14008556e-19, -4.73137798e-19,\n",
      "        -7.06592220e-20, -2.51135679e-19, -5.09124303e-20,\n",
      "         1.24268377e-20, -1.44449180e-19,  1.21858051e-19,\n",
      "         4.73078654e-19,  5.61477689e-19,  2.45759392e-19,\n",
      "         1.25484501e-19,  9.03272311e-20, -1.56136751e-19,\n",
      "         1.50079114e-19,  4.18811173e-20,  4.06547225e-19,\n",
      "         6.22400782e-19,  1.76007555e-20,  2.26132148e-20,\n",
      "        -5.53941466e-20,  1.04680656e-19,  8.56203537e-20,\n",
      "         2.55824836e-19, -1.62628723e-19,  8.53925559e-20,\n",
      "        -2.21195980e-19,  1.78208360e-19, -2.02820809e-22,\n",
      "        -3.53648456e-19, -7.43177578e-20, -1.63791080e-19,\n",
      "        -2.04147245e-19, -2.41423777e-19,  2.47494404e-19,\n",
      "         2.94085791e-19,  3.15571756e-19,  6.57032973e-19,\n",
      "         6.62226194e-20,  2.05140546e-19, -1.16616078e-19,\n",
      "         8.39848431e-20, -1.02983566e-19, -1.36629196e-19,\n",
      "         4.76009769e-19,  1.00067637e-18,  6.41249901e-19,\n",
      "         3.48778767e-19,  1.76819937e-19,  6.66547514e-19,\n",
      "         3.38167332e-19, -5.63615343e-21,  3.95398278e-19,\n",
      "         1.99817613e-19,  1.26093952e-19,  1.81800249e-19,\n",
      "         8.17485668e-20, -3.22759542e-19, -5.37557125e-19,\n",
      "        -5.40475935e-19, -5.39350659e-19,  1.92712584e-19,\n",
      "         4.16259515e-20, -1.85467852e-20,  2.89171615e-20,\n",
      "         1.42649287e-19,  4.59090345e-20,  1.53297079e-19,\n",
      "        -1.14498754e-19,  1.33809583e-19, -1.00672340e-19,\n",
      "        -7.16499840e-20,  7.77111370e-19,  6.03644978e-19,\n",
      "         4.02115709e-19,  2.96390989e-19,  6.36181507e-19,\n",
      "         5.86874512e-19,  1.56692009e-19,  8.34659876e-19,\n",
      "         3.56226959e-19,  3.44006943e-19,  4.22041611e-19,\n",
      "         6.09309873e-19,  4.69226888e-19,  5.89460485e-19,\n",
      "         1.22885202e-19, -1.01587059e-19,  1.22193395e-19,\n",
      "         4.08969081e-20, -5.31325508e-20, -2.18779139e-19,\n",
      "         2.16995402e-19,  1.62021521e-19,  1.01713165e-19,\n",
      "         4.01604685e-20, -7.19599312e-20,  6.25300722e-20,\n",
      "        -2.74662996e-19,  3.88461903e-19,  8.91222383e-19,\n",
      "         5.49129847e-19,  7.64458609e-19,  4.15271939e-19,\n",
      "         1.48041507e-18,  9.56409489e-19,  7.11640852e-19,\n",
      "         1.21801435e-18,  1.20295584e-18,  1.12214805e-18,\n",
      "         9.15050975e-19,  8.55709607e-19,  1.02141193e-18,\n",
      "         6.99733432e-19,  4.40868241e-19, -2.68053823e-20,\n",
      "        -1.99049822e-19,  1.84240045e-19, -4.52214368e-19,\n",
      "        -3.77094529e-19,  1.29930041e-19,  3.34920260e-20,\n",
      "         3.66076018e-20, -5.66124350e-21,  2.20313514e-20,\n",
      "         1.11212430e-20,  1.01819051e-20, -9.29832046e-20,\n",
      "        -1.41925168e-19, -1.03844099e-19,  5.71985209e-19,\n",
      "         1.18897132e-18,  1.72531802e-18,  1.64350955e-18,\n",
      "         1.10703608e-18,  1.37607244e-18,  8.71392176e-19,\n",
      "         2.41432618e-18,  1.47546956e-18,  1.54739705e-18,\n",
      "         1.62805978e-18,  7.59211182e-19,  8.89340134e-19,\n",
      "         5.24495994e-19,  2.20491532e-19, -2.71189096e-19,\n",
      "         1.56472703e-19, -1.65532153e-19, -4.33299565e-20,\n",
      "        -5.64070099e-20,  7.26515963e-20,  4.97584003e-20,\n",
      "        -9.23565248e-20,  2.13208517e-19, -1.29236734e-19,\n",
      "         1.69737203e-20,  2.15375808e-19,  2.33549871e-19,\n",
      "         1.80058323e-19,  6.12723492e-19,  7.99334301e-19,\n",
      "         1.21359307e-18,  1.49005214e-18,  1.30560575e-18,\n",
      "         1.55351426e-18,  1.65609799e-18,  1.30920006e-18,\n",
      "         8.71028113e-19,  9.45469508e-19,  1.23292552e-18,\n",
      "         8.45536629e-19,  3.19499339e-19,  2.14568286e-19,\n",
      "         1.40567532e-19, -7.16068026e-20,  2.28919133e-19,\n",
      "        -2.04212708e-19, -3.64184359e-20, -9.96769052e-20,\n",
      "         6.70102762e-20]], dtype=float32)]\n"
     ]
    }
   ],
   "source": [
    "#  勾配を取得\n",
    "grads = K.gradients(class_output, model.input)[0]  # gradients(loss, variables) で、variablesのlossに関しての勾配を返す\n",
    "gradient_function = K.function([model.input], [grads])  # model.inputを入力すると、gradsを出力する関数\n",
    "\n",
    "grads_val = gradient_function([X])\n",
    "print(grads_val)"
   ]
  },
  {
   "cell_type": "code",
   "execution_count": 33,
   "metadata": {},
   "outputs": [
    {
     "data": {
      "image/png": "[encoded data removed]",
      "text/plain": [
       "<Figure size 432x288 with 1 Axes>"
      ]
     },
     "metadata": {
      "needs_background": "light"
     },
     "output_type": "display_data"
    }
   ],
   "source": [
    "p = np.sign(grads_val)\n",
    "plt.imshow(p.reshape(28,28), 'gray')\n",
    "plt.show()"
   ]
  },
  {
   "cell_type": "code",
   "execution_count": 52,
   "metadata": {},
   "outputs": [
    {
     "data": {
      "image/png": "[encoded data removed]",
      "text/plain": [
       "<Figure size 432x288 with 1 Axes>"
      ]
     },
     "metadata": {
      "needs_background": "light"
     },
     "output_type": "display_data"
    }
   ],
   "source": [
    "eps = 0.2\n",
    "adv = (X - eps*p).clip(min=0, max=1).reshape(1, 784)\n",
    "\n",
    "\n",
    "plt.imshow(adv.reshape(28,28), 'gray')\n",
    "plt.show()\n"
   ]
  },
  {
   "cell_type": "code",
   "execution_count": 53,
   "metadata": {},
   "outputs": [
    {
     "name": "stdout",
     "output_type": "stream",
     "text": [
      "9 0.9384554\n"
     ]
    }
   ],
   "source": [
    "adv_pred = model.predict(adv, batch_size=1)\n",
    "adv_pred_class = np.argmax(adv_pred)\n",
    "adv_pred_per = max(adv_pred[0])\n",
    "print(adv_pred_class, adv_pred_per)"
   ]
  },
  {
   "cell_type": "code",
   "execution_count": null,
   "metadata": {},
   "outputs": [],
   "source": []
  }
 ],
 "metadata": {
  "kernelspec": {
   "display_name": "Python 3",
   "language": "python",
   "name": "python3"
  },
  "language_info": {
   "codemirror_mode": {
    "name": "ipython",
    "version": 3
   },
   "file_extension": ".py",
   "mimetype": "text/x-python",
   "name": "python",
   "nbconvert_exporter": "python",
   "pygments_lexer": "ipython3",
   "version": "3.7.3"
  }
 },
 "nbformat": 4,
 "nbformat_minor": 2
}
