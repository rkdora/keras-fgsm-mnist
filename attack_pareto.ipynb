{
 "cells": [
  {
   "cell_type": "code",
   "execution_count": 1,
   "metadata": {},
   "outputs": [
    {
     "name": "stderr",
     "output_type": "stream",
     "text": [
      "Using TensorFlow backend.\n"
     ]
    }
   ],
   "source": [
    "import keras\n",
    "from keras.datasets import mnist\n",
    "from keras.models import model_from_json\n",
    "from keras.utils import np_utils\n",
    "from keras.optimizers import RMSprop\n",
    "\n",
    "from keras import backend as K\n",
    "\n",
    "import numpy as np\n",
    "import matplotlib.pyplot as plt"
   ]
  },
  {
   "cell_type": "code",
   "execution_count": 2,
   "metadata": {},
   "outputs": [],
   "source": [
    "def generate_grads(x, label, model):\n",
    "    class_output = model.output[:, int(label)]\n",
    "    \n",
    "    grads = K.gradients(class_output, model.input)[0]\n",
    "    gradient_function = K.function([model.input], [grads])\n",
    "\n",
    "    grads_val = gradient_function([x.reshape(1, 784)])\n",
    "    \n",
    "    return np.array(grads_val).reshape(784)"
   ]
  },
  {
   "cell_type": "code",
   "execution_count": 3,
   "metadata": {},
   "outputs": [],
   "source": [
    "def generate_adv(x, label, model, eps):\n",
    "    p = np.sign(generate_grads(x, label, model))\n",
    "    \n",
    "#     plt.imshow(p.reshape(28,28), 'gray')\n",
    "#     plt.show()\n",
    "    \n",
    "    adv = (x - eps*p).clip(min=0, max=1).reshape(784)\n",
    "    \n",
    "    return adv"
   ]
  },
  {
   "cell_type": "code",
   "execution_count": 4,
   "metadata": {},
   "outputs": [],
   "source": [
    "def predict(x, model):\n",
    "    pred = model.predict(x.reshape(1,784), batch_size=1)\n",
    "    pred_class = np.argmax(pred)\n",
    "    pred_per = max(pred[0])\n",
    "    \n",
    "    return pred_class, pred_per"
   ]
  },
  {
   "cell_type": "code",
   "execution_count": 5,
   "metadata": {},
   "outputs": [],
   "source": [
    "def generate_pareto_adv(x, label, model, eps, per):\n",
    "    g = generate_grads(x, label, model)\n",
    "    abs_g = np.abs(g).reshape(784)\n",
    "    \n",
    "#     plt.hist(abs_g)\n",
    "#     plt.show()\n",
    "#     plt.cla()\n",
    "    \n",
    "    idxs_abs_g = np.argsort(abs_g)[::-1][:int(784*per)]\n",
    "    \n",
    "    pareto_p = np.zeros(784)\n",
    "    for idx in idxs_abs_g:\n",
    "        pareto_p[idx] = g[idx]\n",
    "        \n",
    "#     plt.imshow(np.sign(pareto_p).reshape(28,28), 'gray')\n",
    "#     plt.show()\n",
    "\n",
    "    pareto_adv = (x - eps*np.sign(pareto_p)).clip(min=0, max=1).reshape(784)\n",
    "    \n",
    "    return pareto_adv"
   ]
  },
  {
   "cell_type": "code",
   "execution_count": 6,
   "metadata": {},
   "outputs": [],
   "source": [
    "eps = 0.4\n",
    "per = 0.05"
   ]
  },
  {
   "cell_type": "code",
   "execution_count": 7,
   "metadata": {},
   "outputs": [],
   "source": [
    "num_classes = 10"
   ]
  },
  {
   "cell_type": "code",
   "execution_count": 8,
   "metadata": {},
   "outputs": [
    {
     "name": "stdout",
     "output_type": "stream",
     "text": [
      "60000 train samples\n",
      "10000 test samples\n"
     ]
    }
   ],
   "source": [
    "(X_train, y_train), (X_test, y_test) = mnist.load_data()\n",
    "\n",
    "X_train = X_train.reshape(60000, 784).astype('float32') / 255\n",
    "X_test  = X_test.reshape(10000, 784).astype('float32') / 255\n",
    "\n",
    "print(X_train.shape[0], 'train samples')\n",
    "print(X_test.shape[0], 'test samples')\n",
    "\n",
    "y_train_catego = keras.utils.to_categorical(y_train, num_classes)\n",
    "y_test_catego = keras.utils.to_categorical(y_test, num_classes)"
   ]
  },
  {
   "cell_type": "code",
   "execution_count": 9,
   "metadata": {},
   "outputs": [
    {
     "name": "stderr",
     "output_type": "stream",
     "text": [
      "WARNING: Logging before flag parsing goes to stderr.\n",
      "W0111 16:12:25.402154 140736235160512 deprecation_wrapper.py:119] From /Users/ryuto/anaconda3/lib/python3.7/site-packages/keras/backend/tensorflow_backend.py:517: The name tf.placeholder is deprecated. Please use tf.compat.v1.placeholder instead.\n",
      "\n",
      "W0111 16:12:25.423469 140736235160512 deprecation_wrapper.py:119] From /Users/ryuto/anaconda3/lib/python3.7/site-packages/keras/backend/tensorflow_backend.py:4138: The name tf.random_uniform is deprecated. Please use tf.random.uniform instead.\n",
      "\n",
      "W0111 16:12:25.444493 140736235160512 deprecation_wrapper.py:119] From /Users/ryuto/anaconda3/lib/python3.7/site-packages/keras/backend/tensorflow_backend.py:131: The name tf.get_default_graph is deprecated. Please use tf.compat.v1.get_default_graph instead.\n",
      "\n",
      "W0111 16:12:25.445580 140736235160512 deprecation_wrapper.py:119] From /Users/ryuto/anaconda3/lib/python3.7/site-packages/keras/backend/tensorflow_backend.py:133: The name tf.placeholder_with_default is deprecated. Please use tf.compat.v1.placeholder_with_default instead.\n",
      "\n",
      "W0111 16:12:25.457192 140736235160512 deprecation.py:506] From /Users/ryuto/anaconda3/lib/python3.7/site-packages/keras/backend/tensorflow_backend.py:3445: calling dropout (from tensorflow.python.ops.nn_ops) with keep_prob is deprecated and will be removed in a future version.\n",
      "Instructions for updating:\n",
      "Please use `rate` instead of `keep_prob`. Rate should be set to `rate = 1 - keep_prob`.\n",
      "W0111 16:12:25.541509 140736235160512 deprecation_wrapper.py:119] From /Users/ryuto/anaconda3/lib/python3.7/site-packages/keras/backend/tensorflow_backend.py:174: The name tf.get_default_session is deprecated. Please use tf.compat.v1.get_default_session instead.\n",
      "\n",
      "W0111 16:12:25.607954 140736235160512 deprecation_wrapper.py:119] From /Users/ryuto/anaconda3/lib/python3.7/site-packages/keras/optimizers.py:790: The name tf.train.Optimizer is deprecated. Please use tf.compat.v1.train.Optimizer instead.\n",
      "\n"
     ]
    },
    {
     "name": "stdout",
     "output_type": "stream",
     "text": [
      "_________________________________________________________________\n",
      "Layer (type)                 Output Shape              Param #   \n",
      "=================================================================\n",
      "dense_1 (Dense)              (None, 512)               401920    \n",
      "_________________________________________________________________\n",
      "dropout_1 (Dropout)          (None, 512)               0         \n",
      "_________________________________________________________________\n",
      "dense_2 (Dense)              (None, 512)               262656    \n",
      "_________________________________________________________________\n",
      "dropout_2 (Dropout)          (None, 512)               0         \n",
      "_________________________________________________________________\n",
      "dense_3 (Dense)              (None, 10)                5130      \n",
      "=================================================================\n",
      "Total params: 669,706\n",
      "Trainable params: 669,706\n",
      "Non-trainable params: 0\n",
      "_________________________________________________________________\n"
     ]
    }
   ],
   "source": [
    "# モデルを読み込む\n",
    "model = model_from_json(open('mnist_mlp_model.json').read())\n",
    "\n",
    "# 学習結果を読み込む\n",
    "model.load_weights('mnist_mlp_weights.h5')\n",
    "\n",
    "model.summary()\n",
    "\n",
    "model.compile(loss='categorical_crossentropy',\n",
    "              optimizer=RMSprop(),\n",
    "              metrics=['accuracy'])"
   ]
  },
  {
   "cell_type": "code",
   "execution_count": 10,
   "metadata": {},
   "outputs": [
    {
     "name": "stdout",
     "output_type": "stream",
     "text": [
      "Test loss : 0.10931812194355357\n",
      "Test accuracy : 0.9842\n"
     ]
    }
   ],
   "source": [
    "score = model.evaluate(X_test, y_test_catego, verbose=0)\n",
    "print('Test loss :', score[0])\n",
    "print('Test accuracy :', score[1])"
   ]
  },
  {
   "cell_type": "code",
   "execution_count": 11,
   "metadata": {},
   "outputs": [
    {
     "data": {
      "image/png": "[encoded data removed]",
      "text/plain": [
       "<Figure size 432x288 with 1 Axes>"
      ]
     },
     "metadata": {
      "needs_background": "light"
     },
     "output_type": "display_data"
    }
   ],
   "source": [
    "idx = 4\n",
    "x = X_test[idx]\n",
    "y = y_test[idx]\n",
    "plt.imshow(x.reshape(28,28), 'gray')\n",
    "plt.show()"
   ]
  },
  {
   "cell_type": "code",
   "execution_count": 12,
   "metadata": {},
   "outputs": [
    {
     "name": "stdout",
     "output_type": "stream",
     "text": [
      "4 0.99999833\n"
     ]
    }
   ],
   "source": [
    "pred_class, pred_per = predict(x, model)\n",
    "print(pred_class, pred_per)"
   ]
  },
  {
   "cell_type": "code",
   "execution_count": 13,
   "metadata": {},
   "outputs": [
    {
     "name": "stdout",
     "output_type": "stream",
     "text": [
      "(784,)\n"
     ]
    },
    {
     "data": {
      "image/png": "[encoded data removed]",
      "text/plain": [
       "<Figure size 432x288 with 1 Axes>"
      ]
     },
     "metadata": {
      "needs_background": "light"
     },
     "output_type": "display_data"
    }
   ],
   "source": [
    "adv = generate_adv(x, y, model, eps)\n",
    "print(adv.shape)\n",
    "plt.imshow(adv.reshape(28,28), 'gray')\n",
    "plt.show()"
   ]
  },
  {
   "cell_type": "code",
   "execution_count": 14,
   "metadata": {},
   "outputs": [
    {
     "name": "stdout",
     "output_type": "stream",
     "text": [
      "3 0.7810815\n"
     ]
    }
   ],
   "source": [
    "pred_class, pred_per = predict(adv, model)\n",
    "print(pred_class, pred_per)"
   ]
  },
  {
   "cell_type": "code",
   "execution_count": 15,
   "metadata": {},
   "outputs": [
    {
     "name": "stdout",
     "output_type": "stream",
     "text": [
      "(784,)\n"
     ]
    },
    {
     "data": {
      "image/png": "[encoded data removed]",
      "text/plain": [
       "<Figure size 432x288 with 1 Axes>"
      ]
     },
     "metadata": {
      "needs_background": "light"
     },
     "output_type": "display_data"
    }
   ],
   "source": [
    "p_adv = generate_pareto_adv(x, y, model, eps, per)\n",
    "print(p_adv.shape)\n",
    "plt.imshow(p_adv.reshape(28,28), 'gray')\n",
    "plt.show()"
   ]
  },
  {
   "cell_type": "code",
   "execution_count": 16,
   "metadata": {},
   "outputs": [
    {
     "name": "stdout",
     "output_type": "stream",
     "text": [
      "9 1.0\n"
     ]
    }
   ],
   "source": [
    "pred_class, pred_per = predict(p_adv, model)\n",
    "print(pred_class, pred_per)"
   ]
  },
  {
   "cell_type": "code",
   "execution_count": 17,
   "metadata": {},
   "outputs": [],
   "source": [
    "def generate_adv_list(x_list, y_list, model, eps):\n",
    "    adv_list = []\n",
    "    \n",
    "    for x, y in zip(x_list, y_list):\n",
    "        adv = generate_adv(x, y, model, eps).reshape(784)\n",
    "        adv_list.append(adv)\n",
    "        \n",
    "    return np.array(adv_list)"
   ]
  },
  {
   "cell_type": "code",
   "execution_count": 18,
   "metadata": {},
   "outputs": [],
   "source": [
    "def generate_pareto_adv_list(x_list, y_list, model, eps, per):\n",
    "    pareto_adv_list = []\n",
    "    \n",
    "    for x, y in zip(x_list, y_list):\n",
    "        pareto_adv = generate_pareto_adv(x, y, model, eps, per).reshape(784)\n",
    "        pareto_adv_list.append(pareto_adv)\n",
    "        \n",
    "    return np.array(pareto_adv_list)"
   ]
  },
  {
   "cell_type": "code",
   "execution_count": 19,
   "metadata": {},
   "outputs": [],
   "source": [
    "max_n = 100"
   ]
  },
  {
   "cell_type": "code",
   "execution_count": 20,
   "metadata": {
    "scrolled": true
   },
   "outputs": [
    {
     "data": {
      "text/plain": [
       "(100, 784)"
      ]
     },
     "execution_count": 20,
     "metadata": {},
     "output_type": "execute_result"
    }
   ],
   "source": [
    "adv_test = generate_adv_list(X_test[:max_n], y_test[:max_n], model, eps)\n",
    "adv_test.shape"
   ]
  },
  {
   "cell_type": "code",
   "execution_count": 21,
   "metadata": {},
   "outputs": [
    {
     "data": {
      "text/plain": [
       "(100, 784)"
      ]
     },
     "execution_count": 21,
     "metadata": {},
     "output_type": "execute_result"
    }
   ],
   "source": [
    "pareto_adv_test = generate_pareto_adv_list(X_test[:max_n], y_test[:max_n], model, eps, per)\n",
    "pareto_adv_test.shape"
   ]
  },
  {
   "cell_type": "code",
   "execution_count": 22,
   "metadata": {},
   "outputs": [
    {
     "name": "stdout",
     "output_type": "stream",
     "text": [
      "Test loss : 15.934911193847656\n",
      "Test accuracy : 0.0\n"
     ]
    }
   ],
   "source": [
    "score = model.evaluate(adv_test, y_test_catego[:max_n], verbose=0)\n",
    "print('Test loss :', score[0])\n",
    "print('Test accuracy :', score[1])"
   ]
  },
  {
   "cell_type": "code",
   "execution_count": 23,
   "metadata": {},
   "outputs": [
    {
     "name": "stdout",
     "output_type": "stream",
     "text": [
      "Test loss : 4.2783838143805045e-05\n",
      "Test accuracy : 1.0\n"
     ]
    }
   ],
   "source": [
    "score = model.evaluate(X_test[:max_n], y_test_catego[:max_n], verbose=0)\n",
    "print('Test loss :', score[0])\n",
    "print('Test accuracy :', score[1])"
   ]
  },
  {
   "cell_type": "code",
   "execution_count": 24,
   "metadata": {},
   "outputs": [
    {
     "name": "stdout",
     "output_type": "stream",
     "text": [
      "Test loss : 3.6209060192108153\n",
      "Test accuracy : 0.6\n"
     ]
    }
   ],
   "source": [
    "score = model.evaluate(pareto_adv_test[:max_n], y_test_catego[:max_n], verbose=0)\n",
    "print('Test loss :', score[0])\n",
    "print('Test accuracy :', score[1])"
   ]
  },
  {
   "cell_type": "code",
   "execution_count": null,
   "metadata": {},
   "outputs": [],
   "source": []
  }
 ],
 "metadata": {
  "kernelspec": {
   "display_name": "Python 3",
   "language": "python",
   "name": "python3"
  },
  "language_info": {
   "codemirror_mode": {
    "name": "ipython",
    "version": 3
   },
   "file_extension": ".py",
   "mimetype": "text/x-python",
   "name": "python",
   "nbconvert_exporter": "python",
   "pygments_lexer": "ipython3",
   "version": "3.7.3"
  }
 },
 "nbformat": 4,
 "nbformat_minor": 2
}
