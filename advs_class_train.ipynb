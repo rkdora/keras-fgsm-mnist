{
 "cells": [
  {
   "cell_type": "code",
   "execution_count": 1,
   "metadata": {},
   "outputs": [
    {
     "name": "stderr",
     "output_type": "stream",
     "text": [
      "Using TensorFlow backend.\n"
     ]
    }
   ],
   "source": [
    "import keras\n",
    "from keras.datasets import mnist\n",
    "from keras.models import model_from_json\n",
    "from keras.utils import np_utils\n",
    "from keras.optimizers import RMSprop\n",
    "from keras.models import Sequential\n",
    "from keras.layers import Dense, Dropout\n",
    "\n",
    "from keras import backend as K\n",
    "\n",
    "import numpy as np\n",
    "import matplotlib.pyplot as plt"
   ]
  },
  {
   "cell_type": "code",
   "execution_count": 2,
   "metadata": {},
   "outputs": [],
   "source": [
    "def generate_grads(x, label, model_name):\n",
    "    model = model_from_json(open(model_name + 'model.json').read())\n",
    "    model.load_weights(model_name + 'weights.h5')\n",
    "    model.compile(loss='categorical_crossentropy',\n",
    "                  optimizer=RMSprop(),\n",
    "                  metrics=['accuracy'])\n",
    "    \n",
    "    class_output = model.output[:, int(label)]\n",
    "    \n",
    "    grads = K.gradients(class_output, model.input)[0]\n",
    "    gradient_function = K.function([model.input], [grads])\n",
    "\n",
    "    grads_val = gradient_function([x.reshape(1, 784)])\n",
    "    \n",
    "    K.clear_session()\n",
    "    \n",
    "    return np.array(grads_val).reshape(784)"
   ]
  },
  {
   "cell_type": "code",
   "execution_count": 3,
   "metadata": {},
   "outputs": [],
   "source": [
    "def generate_adv(x, label, model_name, eps):\n",
    "    p = np.sign(generate_grads(x, label, model_name))\n",
    "    \n",
    "    adv = (x - eps*p).clip(min=0, max=1).reshape(784)\n",
    "    \n",
    "    return adv"
   ]
  },
  {
   "cell_type": "code",
   "execution_count": 4,
   "metadata": {},
   "outputs": [],
   "source": [
    "def predict(x, model):\n",
    "    pred = model.predict(x.reshape(1,784), batch_size=1)\n",
    "    pred_class = np.argmax(pred)\n",
    "    pred_per = max(pred[0])\n",
    "    \n",
    "    return pred_class, pred_per"
   ]
  },
  {
   "cell_type": "code",
   "execution_count": 5,
   "metadata": {},
   "outputs": [],
   "source": [
    "num_list = [0, 1]"
   ]
  },
  {
   "cell_type": "code",
   "execution_count": 6,
   "metadata": {},
   "outputs": [],
   "source": [
    "eps = 0.3"
   ]
  },
  {
   "cell_type": "code",
   "execution_count": 7,
   "metadata": {},
   "outputs": [],
   "source": [
    "old_num_classes = 10\n",
    "new_num_classes = 4"
   ]
  },
  {
   "cell_type": "code",
   "execution_count": 8,
   "metadata": {},
   "outputs": [],
   "source": [
    "model_name = 'mnist_mlp_'\n",
    "save_model_name = 'advs_class01_'"
   ]
  },
  {
   "cell_type": "code",
   "execution_count": 9,
   "metadata": {},
   "outputs": [
    {
     "name": "stdout",
     "output_type": "stream",
     "text": [
      "60000 train samples\n",
      "10000 test samples\n"
     ]
    }
   ],
   "source": [
    "(X_train, y_train), (X_test, y_test) = mnist.load_data()\n",
    "\n",
    "X_train = X_train.reshape(60000, 784).astype('float32') / 255\n",
    "X_test  = X_test.reshape(10000, 784).astype('float32') / 255\n",
    "\n",
    "print(X_train.shape[0], 'train samples')\n",
    "print(X_test.shape[0], 'test samples')"
   ]
  },
  {
   "cell_type": "code",
   "execution_count": 10,
   "metadata": {},
   "outputs": [
    {
     "name": "stdout",
     "output_type": "stream",
     "text": [
      "1000\n"
     ]
    }
   ],
   "source": [
    "idxs_train_num = [i for i, n in enumerate(y_train) if n in num_list][:1000]\n",
    "print(len(idxs_train_num))\n",
    "X_train_num = []\n",
    "y_train_num = []\n",
    "for idx in idxs_train_num:\n",
    "    X_train_num.append(X_train[idx])\n",
    "    y_train_num.append(y_train[idx])\n",
    "    \n",
    "X_train_num = np.array(X_train_num)\n",
    "y_train_num_catego = keras.utils.to_categorical(y_train_num, old_num_classes)"
   ]
  },
  {
   "cell_type": "code",
   "execution_count": 11,
   "metadata": {},
   "outputs": [
    {
     "name": "stdout",
     "output_type": "stream",
     "text": [
      "200\n"
     ]
    }
   ],
   "source": [
    "idxs_test_num = [i for i, n in enumerate(y_test) if n in num_list][:200]\n",
    "print(len(idxs_test_num))\n",
    "X_test_num = []\n",
    "y_test_num = []\n",
    "for idx in idxs_test_num:\n",
    "    X_test_num.append(X_test[idx])\n",
    "    y_test_num.append(y_test[idx])\n",
    "    \n",
    "X_test_num = np.array(X_test_num)\n",
    "y_test_num_catego = keras.utils.to_categorical(y_test_num, old_num_classes)"
   ]
  },
  {
   "cell_type": "code",
   "execution_count": 12,
   "metadata": {},
   "outputs": [
    {
     "name": "stdout",
     "output_type": "stream",
     "text": [
      "WARNING:tensorflow:From /home/ryuto/anaconda3/lib/python3.7/site-packages/keras/backend/tensorflow_backend.py:541: The name tf.placeholder is deprecated. Please use tf.compat.v1.placeholder instead.\n",
      "\n",
      "WARNING:tensorflow:From /home/ryuto/anaconda3/lib/python3.7/site-packages/keras/backend/tensorflow_backend.py:4432: The name tf.random_uniform is deprecated. Please use tf.random.uniform instead.\n",
      "\n",
      "WARNING:tensorflow:From /home/ryuto/anaconda3/lib/python3.7/site-packages/keras/backend/tensorflow_backend.py:66: The name tf.get_default_graph is deprecated. Please use tf.compat.v1.get_default_graph instead.\n",
      "\n",
      "WARNING:tensorflow:From /home/ryuto/anaconda3/lib/python3.7/site-packages/keras/backend/tensorflow_backend.py:148: The name tf.placeholder_with_default is deprecated. Please use tf.compat.v1.placeholder_with_default instead.\n",
      "\n",
      "WARNING:tensorflow:From /home/ryuto/anaconda3/lib/python3.7/site-packages/keras/backend/tensorflow_backend.py:3733: calling dropout (from tensorflow.python.ops.nn_ops) with keep_prob is deprecated and will be removed in a future version.\n",
      "Instructions for updating:\n",
      "Please use `rate` instead of `keep_prob`. Rate should be set to `rate = 1 - keep_prob`.\n",
      "WARNING:tensorflow:From /home/ryuto/anaconda3/lib/python3.7/site-packages/keras/backend/tensorflow_backend.py:190: The name tf.get_default_session is deprecated. Please use tf.compat.v1.get_default_session instead.\n",
      "\n",
      "Model: \"sequential_1\"\n",
      "_________________________________________________________________\n",
      "Layer (type)                 Output Shape              Param #   \n",
      "=================================================================\n",
      "dense_1 (Dense)              (None, 512)               401920    \n",
      "_________________________________________________________________\n",
      "dropout_1 (Dropout)          (None, 512)               0         \n",
      "_________________________________________________________________\n",
      "dense_2 (Dense)              (None, 512)               262656    \n",
      "_________________________________________________________________\n",
      "dropout_2 (Dropout)          (None, 512)               0         \n",
      "_________________________________________________________________\n",
      "dense_3 (Dense)              (None, 10)                5130      \n",
      "=================================================================\n",
      "Total params: 669,706\n",
      "Trainable params: 669,706\n",
      "Non-trainable params: 0\n",
      "_________________________________________________________________\n",
      "None\n",
      "WARNING:tensorflow:From /home/ryuto/anaconda3/lib/python3.7/site-packages/keras/optimizers.py:793: The name tf.train.Optimizer is deprecated. Please use tf.compat.v1.train.Optimizer instead.\n",
      "\n"
     ]
    }
   ],
   "source": [
    "# モデルを読み込む\n",
    "model = model_from_json(open(model_name + 'model.json').read())\n",
    "\n",
    "# 学習結果を読み込む\n",
    "model.load_weights(model_name + 'weights.h5')\n",
    "\n",
    "print(model.summary())\n",
    "\n",
    "model.compile(loss='categorical_crossentropy',\n",
    "              optimizer=RMSprop(),\n",
    "              metrics=['accuracy'])"
   ]
  },
  {
   "cell_type": "code",
   "execution_count": 13,
   "metadata": {},
   "outputs": [
    {
     "name": "stdout",
     "output_type": "stream",
     "text": [
      "0か1のみ\n",
      "Test loss : 0.04024721733847855\n",
      "Test accuracy : 0.99\n"
     ]
    }
   ],
   "source": [
    "score = model.evaluate(X_test_num, y_test_num_catego, verbose=0)\n",
    "print('0か1のみ')\n",
    "print('Test loss :', score[0])\n",
    "print('Test accuracy :', score[1])"
   ]
  },
  {
   "cell_type": "code",
   "execution_count": 14,
   "metadata": {},
   "outputs": [],
   "source": [
    "def generate_adv_list(x_list, y_list, model_name, eps):\n",
    "    adv_list = []\n",
    "    \n",
    "    for i, (x, y) in enumerate(zip(x_list, y_list)):\n",
    "        if i % 100 == 0:\n",
    "            print(i)\n",
    "        adv = generate_adv(x, y, model_name, eps).reshape(784)\n",
    "        adv_list.append(adv)\n",
    "        \n",
    "    return np.array(adv_list)"
   ]
  },
  {
   "cell_type": "code",
   "execution_count": 15,
   "metadata": {},
   "outputs": [
    {
     "name": "stdout",
     "output_type": "stream",
     "text": [
      "0\n",
      "100\n"
     ]
    },
    {
     "data": {
      "text/plain": [
       "(200, 784)"
      ]
     },
     "execution_count": 15,
     "metadata": {},
     "output_type": "execute_result"
    }
   ],
   "source": [
    "adv_test_num = generate_adv_list(X_test_num, y_test_num, model_name, eps)\n",
    "adv_test_num.shape"
   ]
  },
  {
   "cell_type": "code",
   "execution_count": 20,
   "metadata": {},
   "outputs": [
    {
     "name": "stdout",
     "output_type": "stream",
     "text": [
      "Model: \"sequential_1\"\n",
      "_________________________________________________________________\n",
      "Layer (type)                 Output Shape              Param #   \n",
      "=================================================================\n",
      "dense_1 (Dense)              (None, 512)               401920    \n",
      "_________________________________________________________________\n",
      "dropout_1 (Dropout)          (None, 512)               0         \n",
      "_________________________________________________________________\n",
      "dense_2 (Dense)              (None, 512)               262656    \n",
      "_________________________________________________________________\n",
      "dropout_2 (Dropout)          (None, 512)               0         \n",
      "_________________________________________________________________\n",
      "dense_3 (Dense)              (None, 10)                5130      \n",
      "=================================================================\n",
      "Total params: 669,706\n",
      "Trainable params: 669,706\n",
      "Non-trainable params: 0\n",
      "_________________________________________________________________\n",
      "None\n"
     ]
    }
   ],
   "source": [
    "# モデルを読み込む\n",
    "model = model_from_json(open(model_name + 'model.json').read())\n",
    "\n",
    "# 学習結果を読み込む\n",
    "model.load_weights(model_name + 'weights.h5')\n",
    "\n",
    "print(model.summary())\n",
    "\n",
    "model.compile(loss='categorical_crossentropy',\n",
    "              optimizer=RMSprop(),\n",
    "              metrics=['accuracy'])"
   ]
  },
  {
   "cell_type": "code",
   "execution_count": 21,
   "metadata": {},
   "outputs": [
    {
     "name": "stdout",
     "output_type": "stream",
     "text": [
      "0か1のadvs\n",
      "Test loss : 15.341705436706542\n",
      "Test accuracy : 0.0\n"
     ]
    }
   ],
   "source": [
    "score = model.evaluate(adv_test_num, y_test_num_catego, verbose=0)\n",
    "print('0か1のadvs')\n",
    "print('Test loss :', score[0])\n",
    "print('Test accuracy :', score[1])"
   ]
  },
  {
   "cell_type": "code",
   "execution_count": 22,
   "metadata": {},
   "outputs": [
    {
     "name": "stdout",
     "output_type": "stream",
     "text": [
      "0\n",
      "100\n",
      "200\n",
      "300\n",
      "400\n",
      "500\n",
      "600\n",
      "700\n",
      "800\n",
      "900\n"
     ]
    },
    {
     "data": {
      "text/plain": [
       "(1000, 784)"
      ]
     },
     "execution_count": 22,
     "metadata": {},
     "output_type": "execute_result"
    }
   ],
   "source": [
    "adv_train_num = generate_adv_list(X_train_num, y_train_num, model_name, eps)\n",
    "adv_train_num.shape"
   ]
  },
  {
   "cell_type": "code",
   "execution_count": 24,
   "metadata": {},
   "outputs": [
    {
     "data": {
      "text/plain": [
       "(2000, 784)"
      ]
     },
     "execution_count": 24,
     "metadata": {},
     "output_type": "execute_result"
    }
   ],
   "source": [
    "X_adv_train = np.concatenate([X_train_num, adv_train_num])"
   ]
  },
  {
   "cell_type": "code",
   "execution_count": 25,
   "metadata": {},
   "outputs": [],
   "source": [
    "y_adv_train = np.concatenate([y_train_num, np.array(list(map(lambda l: l + 2, y_train_num)))])\n",
    "y_adv_train_catego = keras.utils.to_categorical(y_adv_train, new_num_classes)\n",
    "\n",
    "X_adv_test = np.concatenate([X_test_num, adv_test_num])\n",
    "y_adv_test = np.concatenate([y_test_num, np.array(list(map(lambda l: l + 2, y_test_num)))])\n",
    "y_adv_test_catego = keras.utils.to_categorical(y_adv_test, new_num_classes)"
   ]
  },
  {
   "cell_type": "code",
   "execution_count": 36,
   "metadata": {},
   "outputs": [],
   "source": [
    "batch_size = 32\n",
    "epochs = 20"
   ]
  },
  {
   "cell_type": "code",
   "execution_count": 37,
   "metadata": {
    "scrolled": true
   },
   "outputs": [
    {
     "name": "stdout",
     "output_type": "stream",
     "text": [
      "Model: \"sequential_4\"\n",
      "_________________________________________________________________\n",
      "Layer (type)                 Output Shape              Param #   \n",
      "=================================================================\n",
      "dense_9 (Dense)              (None, 512)               401920    \n",
      "_________________________________________________________________\n",
      "dropout_7 (Dropout)          (None, 512)               0         \n",
      "_________________________________________________________________\n",
      "dense_10 (Dense)             (None, 512)               262656    \n",
      "_________________________________________________________________\n",
      "dropout_8 (Dropout)          (None, 512)               0         \n",
      "_________________________________________________________________\n",
      "dense_11 (Dense)             (None, 4)                 2052      \n",
      "=================================================================\n",
      "Total params: 666,628\n",
      "Trainable params: 666,628\n",
      "Non-trainable params: 0\n",
      "_________________________________________________________________\n",
      "Train on 2000 samples, validate on 400 samples\n",
      "Epoch 1/20\n",
      "2000/2000 [==============================] - 1s 532us/step - loss: 0.1893 - acc: 0.9410 - val_loss: 0.0024 - val_acc: 1.0000\n",
      "Epoch 2/20\n",
      "2000/2000 [==============================] - 1s 311us/step - loss: 0.0658 - acc: 0.9835 - val_loss: 0.0304 - val_acc: 0.9975\n",
      "Epoch 3/20\n",
      "2000/2000 [==============================] - 1s 314us/step - loss: 0.0443 - acc: 0.9875 - val_loss: 2.4564e-04 - val_acc: 1.0000\n",
      "Epoch 4/20\n",
      "2000/2000 [==============================] - 1s 313us/step - loss: 0.0484 - acc: 0.9860 - val_loss: 0.0015 - val_acc: 1.0000\n",
      "Epoch 5/20\n",
      "2000/2000 [==============================] - 1s 320us/step - loss: 0.0465 - acc: 0.9885 - val_loss: 3.7276e-04 - val_acc: 1.0000\n",
      "Epoch 6/20\n",
      "2000/2000 [==============================] - 1s 313us/step - loss: 0.0490 - acc: 0.9865 - val_loss: 0.0012 - val_acc: 1.0000\n",
      "Epoch 7/20\n",
      "2000/2000 [==============================] - 1s 314us/step - loss: 0.0393 - acc: 0.9860 - val_loss: 0.0718 - val_acc: 0.9650\n",
      "Epoch 8/20\n",
      "2000/2000 [==============================] - 1s 323us/step - loss: 0.0434 - acc: 0.9880 - val_loss: 0.0035 - val_acc: 1.0000\n",
      "Epoch 9/20\n",
      "2000/2000 [==============================] - 1s 323us/step - loss: 0.0405 - acc: 0.9870 - val_loss: 1.4547e-04 - val_acc: 1.0000\n",
      "Epoch 10/20\n",
      "2000/2000 [==============================] - 1s 319us/step - loss: 0.0471 - acc: 0.9860 - val_loss: 0.0021 - val_acc: 1.0000\n",
      "Epoch 11/20\n",
      "2000/2000 [==============================] - 1s 347us/step - loss: 0.0368 - acc: 0.9885 - val_loss: 0.0171 - val_acc: 0.9900\n",
      "Epoch 12/20\n",
      "2000/2000 [==============================] - 1s 326us/step - loss: 0.0344 - acc: 0.9870 - val_loss: 0.0105 - val_acc: 0.9975\n",
      "Epoch 13/20\n",
      "2000/2000 [==============================] - 1s 338us/step - loss: 0.0467 - acc: 0.9865 - val_loss: 0.0150 - val_acc: 0.9975\n",
      "Epoch 14/20\n",
      "2000/2000 [==============================] - 1s 334us/step - loss: 0.0319 - acc: 0.9875 - val_loss: 2.0236e-04 - val_acc: 1.0000\n",
      "Epoch 15/20\n",
      "2000/2000 [==============================] - 1s 336us/step - loss: 0.0323 - acc: 0.9895 - val_loss: 0.0095 - val_acc: 0.9950\n",
      "Epoch 16/20\n",
      "2000/2000 [==============================] - 1s 327us/step - loss: 0.0362 - acc: 0.9855 - val_loss: 9.1653e-04 - val_acc: 1.0000\n",
      "Epoch 17/20\n",
      "2000/2000 [==============================] - 1s 340us/step - loss: 0.0311 - acc: 0.9870 - val_loss: 0.0060 - val_acc: 1.0000\n",
      "Epoch 18/20\n",
      "2000/2000 [==============================] - 1s 343us/step - loss: 0.0314 - acc: 0.9865 - val_loss: 4.8115e-04 - val_acc: 1.0000\n",
      "Epoch 19/20\n",
      "2000/2000 [==============================] - 1s 340us/step - loss: 0.0269 - acc: 0.9895 - val_loss: 0.0055 - val_acc: 0.9975\n",
      "Epoch 20/20\n",
      "2000/2000 [==============================] - 1s 332us/step - loss: 0.0257 - acc: 0.9900 - val_loss: 1.0667e-04 - val_acc: 1.0000\n",
      "model saved.\n"
     ]
    }
   ],
   "source": [
    "model2 = Sequential()\n",
    "model2.add(Dense(512, activation='relu', input_shape=(784,)))\n",
    "model2.add(Dropout(0.2))\n",
    "model2.add(Dense(512, activation='relu'))\n",
    "model2.add(Dropout(0.2))\n",
    "model2.add(Dense(new_num_classes, activation='softmax'))\n",
    "\n",
    "model2.summary()\n",
    "\n",
    "model2.compile(loss='categorical_crossentropy',\n",
    "              optimizer=RMSprop(),\n",
    "              metrics=['accuracy'])\n",
    "\n",
    "\n",
    "history = model2.fit(X_adv_train, y_adv_train_catego,\n",
    "                    batch_size=batch_size,\n",
    "                    epochs=epochs,\n",
    "                    verbose=1,\n",
    "                    validation_data=(X_adv_test, y_adv_test_catego))\n",
    "\n",
    "model_json_str = model2.to_json()\n",
    "open(save_model_name + 'model.json', 'w').write(model_json_str)\n",
    "model2.save_weights(save_model_name + 'weights.h5');\n",
    "print('model saved.')\n"
   ]
  },
  {
   "cell_type": "code",
   "execution_count": 38,
   "metadata": {},
   "outputs": [
    {
     "name": "stdout",
     "output_type": "stream",
     "text": [
      "Test loss : 0.00010666552621387382\n",
      "Test accuracy : 1.0\n"
     ]
    }
   ],
   "source": [
    "score = model2.evaluate(X_adv_test, y_adv_test_catego, verbose=0)\n",
    "print('Test loss :', score[0])\n",
    "print('Test accuracy :', score[1])"
   ]
  },
  {
   "cell_type": "code",
   "execution_count": 39,
   "metadata": {},
   "outputs": [
    {
     "data": {
      "image/png": "[encoded data removed]",
      "text/plain": [
       "<Figure size 432x288 with 1 Axes>"
      ]
     },
     "metadata": {
      "needs_background": "light"
     },
     "output_type": "display_data"
    }
   ],
   "source": [
    "plt.plot(history.history['acc'])\n",
    "plt.plot(history.history['val_acc'])\n",
    "plt.title('Accuracy')\n",
    "plt.legend(['train', 'test'], loc='upper left')\n",
    "plt.show()"
   ]
  },
  {
   "cell_type": "code",
   "execution_count": 40,
   "metadata": {},
   "outputs": [
    {
     "data": {
      "image/png": "[encoded data removed]",
      "text/plain": [
       "<Figure size 432x288 with 1 Axes>"
      ]
     },
     "metadata": {
      "needs_background": "light"
     },
     "output_type": "display_data"
    }
   ],
   "source": [
    "\n",
    "plt.cla()\n",
    "\n",
    "# ロスの推移をプロット\n",
    "plt.plot(history.history['loss'])\n",
    "plt.plot(history.history['val_loss'])\n",
    "plt.title('Loss')\n",
    "plt.legend(['train', 'test'], loc='upper left')\n",
    "plt.show()"
   ]
  },
  {
   "cell_type": "code",
   "execution_count": 41,
   "metadata": {},
   "outputs": [
    {
     "data": {
      "text/plain": [
       "Text(0.5, 1.0, '1 -> 1 : 1.0')"
      ]
     },
     "execution_count": 41,
     "metadata": {},
     "output_type": "execute_result"
    },
    {
     "data": {
      "image/png": "[encoded data removed]",
      "text/plain": [
       "<Figure size 432x288 with 1 Axes>"
      ]
     },
     "metadata": {
      "needs_background": "light"
     },
     "output_type": "display_data"
    }
   ],
   "source": [
    "x = X_adv_test[0]\n",
    "y = y_adv_test[0]\n",
    "\n",
    "pred_class, pred_per = predict(x, model2)\n",
    "plt.imshow(x.reshape(28,28), 'gray')\n",
    "plt.title(f'{y} -> {pred_class} : {pred_per}')"
   ]
  },
  {
   "cell_type": "code",
   "execution_count": 44,
   "metadata": {},
   "outputs": [
    {
     "data": {
      "text/plain": [
       "Text(0.5, 1.0, '3 -> 3 : 1.0')"
      ]
     },
     "execution_count": 44,
     "metadata": {},
     "output_type": "execute_result"
    },
    {
     "data": {
      "image/png": "[encoded data removed]",
      "text/plain": [
       "<Figure size 432x288 with 1 Axes>"
      ]
     },
     "metadata": {
      "needs_background": "light"
     },
     "output_type": "display_data"
    }
   ],
   "source": [
    "x = X_adv_test[200]\n",
    "y = y_adv_test[200]\n",
    "\n",
    "pred_class, pred_per = predict(x, model2)\n",
    "plt.imshow(x.reshape(28,28), 'gray')\n",
    "plt.title(f'{y} -> {pred_class} : {pred_per}')"
   ]
  },
  {
   "cell_type": "code",
   "execution_count": 46,
   "metadata": {},
   "outputs": [
    {
     "data": {
      "text/plain": [
       "(-5, 5)"
      ]
     },
     "execution_count": 46,
     "metadata": {},
     "output_type": "execute_result"
    },
    {
     "data": {
      "image/png": "[encoded data removed]",
      "text/plain": [
       "<Figure size 432x288 with 1 Axes>"
      ]
     },
     "metadata": {
      "needs_background": "light"
     },
     "output_type": "display_data"
    }
   ],
   "source": [
    "random_noise = np.random.normal(\n",
    "    loc   = 0,      # 平均\n",
    "    scale = 1,      # 標準偏差\n",
    "    size  = (784),# 出力配列のサイズ\n",
    ")\n",
    "plt.hist(random_noise,bins=5)\n",
    "plt.xlim(-5,5)"
   ]
  },
  {
   "cell_type": "code",
   "execution_count": 53,
   "metadata": {},
   "outputs": [
    {
     "data": {
      "text/plain": [
       "(200, 784)"
      ]
     },
     "execution_count": 53,
     "metadata": {},
     "output_type": "execute_result"
    }
   ],
   "source": [
    "random_test = (X_adv_test[:200] + eps*np.sign(random_noise)).clip(min=0, max=1)\n",
    "random_test.shape"
   ]
  },
  {
   "cell_type": "code",
   "execution_count": 54,
   "metadata": {},
   "outputs": [
    {
     "data": {
      "text/plain": [
       "Text(0.5, 1.0, '1 -> 3 : 0.9975849390029907')"
      ]
     },
     "execution_count": 54,
     "metadata": {},
     "output_type": "execute_result"
    },
    {
     "data": {
      "image/png": "[encoded data removed]",
      "text/plain": [
       "<Figure size 432x288 with 1 Axes>"
      ]
     },
     "metadata": {
      "needs_background": "light"
     },
     "output_type": "display_data"
    }
   ],
   "source": [
    "x = random_test[0]\n",
    "y = y_adv_test[0]\n",
    "\n",
    "pred_class, pred_per = predict(x, model2)\n",
    "plt.imshow(x.reshape(28,28), 'gray')\n",
    "plt.title(f'{y} -> {pred_class} : {pred_per}')"
   ]
  },
  {
   "cell_type": "code",
   "execution_count": 56,
   "metadata": {},
   "outputs": [
    {
     "name": "stdout",
     "output_type": "stream",
     "text": [
      "Test loss : 16.039034576416014\n",
      "Test accuracy : 0.0\n"
     ]
    }
   ],
   "source": [
    "score = model2.evaluate(random_test, y_adv_test_catego[:200], verbose=0)\n",
    "print('Test loss :', score[0])\n",
    "print('Test accuracy :', score[1])"
   ]
  },
  {
   "cell_type": "code",
   "execution_count": 57,
   "metadata": {},
   "outputs": [
    {
     "name": "stdout",
     "output_type": "stream",
     "text": [
      "Test loss : 0.06517095245420933\n",
      "Test accuracy : 0.985\n"
     ]
    }
   ],
   "source": [
    "score = model2.evaluate(random_test, y_adv_test_catego[200:], verbose=0)\n",
    "print('Test loss :', score[0])\n",
    "print('Test accuracy :', score[1])"
   ]
  },
  {
   "cell_type": "code",
   "execution_count": null,
   "metadata": {},
   "outputs": [],
   "source": []
  }
 ],
 "metadata": {
  "kernelspec": {
   "display_name": "Python 3",
   "language": "python",
   "name": "python3"
  },
  "language_info": {
   "codemirror_mode": {
    "name": "ipython",
    "version": 3
   },
   "file_extension": ".py",
   "mimetype": "text/x-python",
   "name": "python",
   "nbconvert_exporter": "python",
   "pygments_lexer": "ipython3",
   "version": "3.7.3"
  }
 },
 "nbformat": 4,
 "nbformat_minor": 2
}
