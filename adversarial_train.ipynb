{
 "cells": [
  {
   "cell_type": "code",
   "execution_count": 1,
   "metadata": {},
   "outputs": [
    {
     "name": "stderr",
     "output_type": "stream",
     "text": [
      "Using TensorFlow backend.\n"
     ]
    }
   ],
   "source": [
    "import keras\n",
    "from keras.datasets import mnist\n",
    "from keras.models import model_from_json\n",
    "from keras.utils import np_utils\n",
    "from keras.optimizers import RMSprop\n",
    "\n",
    "from keras import backend as K\n",
    "\n",
    "import numpy as np\n",
    "import matplotlib.pyplot as plt"
   ]
  },
  {
   "cell_type": "code",
   "execution_count": 2,
   "metadata": {},
   "outputs": [],
   "source": [
    "def generate_p(x, label, model):\n",
    "    class_output = model.output[:, int(label)]\n",
    "    \n",
    "    grads = K.gradients(class_output, model.input)[0]\n",
    "    gradient_function = K.function([model.input], [grads])\n",
    "\n",
    "    grads_val = gradient_function([x.reshape(1, 784)])\n",
    "    \n",
    "    p = np.sign(grads_val)\n",
    "    \n",
    "    return p"
   ]
  },
  {
   "cell_type": "code",
   "execution_count": 3,
   "metadata": {},
   "outputs": [],
   "source": [
    "def generate_adv(x, label, model, eps):\n",
    "    p = generate_p(x, label, model)\n",
    "    adv = (x - eps*p).clip(min=0, max=1).reshape(1, 784)\n",
    "    \n",
    "    return adv"
   ]
  },
  {
   "cell_type": "code",
   "execution_count": 4,
   "metadata": {},
   "outputs": [],
   "source": [
    "def predict(x, model):\n",
    "    pred = model.predict(x.reshape(1,784), batch_size=1)\n",
    "    pred_class = np.argmax(pred)\n",
    "    pred_per = max(pred[0])\n",
    "    \n",
    "    return pred_class, pred_per"
   ]
  },
  {
   "cell_type": "code",
   "execution_count": 5,
   "metadata": {},
   "outputs": [],
   "source": [
    "eps = 0.3"
   ]
  },
  {
   "cell_type": "code",
   "execution_count": 6,
   "metadata": {},
   "outputs": [],
   "source": [
    "num_classes = 10"
   ]
  },
  {
   "cell_type": "code",
   "execution_count": 7,
   "metadata": {},
   "outputs": [],
   "source": [
    "max_n = 100"
   ]
  },
  {
   "cell_type": "code",
   "execution_count": 8,
   "metadata": {},
   "outputs": [
    {
     "name": "stdout",
     "output_type": "stream",
     "text": [
      "60000 train samples\n",
      "10000 test samples\n"
     ]
    }
   ],
   "source": [
    "(X_train, y_train), (X_test, y_test) = mnist.load_data()\n",
    "\n",
    "X_train = X_train.reshape(60000, 784).astype('float32') / 255\n",
    "X_test  = X_test.reshape(10000, 784).astype('float32') / 255\n",
    "\n",
    "print(X_train.shape[0], 'train samples')\n",
    "print(X_test.shape[0], 'test samples')\n",
    "\n",
    "y_train_catego = keras.utils.to_categorical(y_train, num_classes)\n",
    "y_test_catego = keras.utils.to_categorical(y_test, num_classes)"
   ]
  },
  {
   "cell_type": "code",
   "execution_count": 9,
   "metadata": {},
   "outputs": [
    {
     "name": "stderr",
     "output_type": "stream",
     "text": [
      "WARNING: Logging before flag parsing goes to stderr.\n",
      "W0108 12:04:11.156069 140736235160512 deprecation_wrapper.py:119] From /Users/ryuto/anaconda3/lib/python3.7/site-packages/keras/backend/tensorflow_backend.py:517: The name tf.placeholder is deprecated. Please use tf.compat.v1.placeholder instead.\n",
      "\n",
      "W0108 12:04:11.181239 140736235160512 deprecation_wrapper.py:119] From /Users/ryuto/anaconda3/lib/python3.7/site-packages/keras/backend/tensorflow_backend.py:4138: The name tf.random_uniform is deprecated. Please use tf.random.uniform instead.\n",
      "\n",
      "W0108 12:04:11.204370 140736235160512 deprecation_wrapper.py:119] From /Users/ryuto/anaconda3/lib/python3.7/site-packages/keras/backend/tensorflow_backend.py:131: The name tf.get_default_graph is deprecated. Please use tf.compat.v1.get_default_graph instead.\n",
      "\n",
      "W0108 12:04:11.205335 140736235160512 deprecation_wrapper.py:119] From /Users/ryuto/anaconda3/lib/python3.7/site-packages/keras/backend/tensorflow_backend.py:133: The name tf.placeholder_with_default is deprecated. Please use tf.compat.v1.placeholder_with_default instead.\n",
      "\n",
      "W0108 12:04:11.220506 140736235160512 deprecation.py:506] From /Users/ryuto/anaconda3/lib/python3.7/site-packages/keras/backend/tensorflow_backend.py:3445: calling dropout (from tensorflow.python.ops.nn_ops) with keep_prob is deprecated and will be removed in a future version.\n",
      "Instructions for updating:\n",
      "Please use `rate` instead of `keep_prob`. Rate should be set to `rate = 1 - keep_prob`.\n",
      "W0108 12:04:11.308510 140736235160512 deprecation_wrapper.py:119] From /Users/ryuto/anaconda3/lib/python3.7/site-packages/keras/backend/tensorflow_backend.py:174: The name tf.get_default_session is deprecated. Please use tf.compat.v1.get_default_session instead.\n",
      "\n",
      "W0108 12:04:11.376234 140736235160512 deprecation_wrapper.py:119] From /Users/ryuto/anaconda3/lib/python3.7/site-packages/keras/optimizers.py:790: The name tf.train.Optimizer is deprecated. Please use tf.compat.v1.train.Optimizer instead.\n",
      "\n"
     ]
    },
    {
     "name": "stdout",
     "output_type": "stream",
     "text": [
      "_________________________________________________________________\n",
      "Layer (type)                 Output Shape              Param #   \n",
      "=================================================================\n",
      "dense_1 (Dense)              (None, 512)               401920    \n",
      "_________________________________________________________________\n",
      "dropout_1 (Dropout)          (None, 512)               0         \n",
      "_________________________________________________________________\n",
      "dense_2 (Dense)              (None, 512)               262656    \n",
      "_________________________________________________________________\n",
      "dropout_2 (Dropout)          (None, 512)               0         \n",
      "_________________________________________________________________\n",
      "dense_3 (Dense)              (None, 10)                5130      \n",
      "=================================================================\n",
      "Total params: 669,706\n",
      "Trainable params: 669,706\n",
      "Non-trainable params: 0\n",
      "_________________________________________________________________\n"
     ]
    }
   ],
   "source": [
    "# モデルを読み込む\n",
    "model = model_from_json(open('mnist_mlp_model.json').read())\n",
    "\n",
    "# 学習結果を読み込む\n",
    "model.load_weights('mnist_mlp_weights.h5')\n",
    "\n",
    "model.summary();\n",
    "\n",
    "model.compile(loss='categorical_crossentropy',\n",
    "              optimizer=RMSprop(),\n",
    "              metrics=['accuracy'])"
   ]
  },
  {
   "cell_type": "code",
   "execution_count": 10,
   "metadata": {},
   "outputs": [
    {
     "name": "stdout",
     "output_type": "stream",
     "text": [
      "Test loss : 0.10931812194355357\n",
      "Test accuracy : 0.9842\n"
     ]
    }
   ],
   "source": [
    "score = model.evaluate(X_test, y_test_catego, verbose=0)\n",
    "print('Test loss :', score[0])\n",
    "print('Test accuracy :', score[1])"
   ]
  },
  {
   "cell_type": "code",
   "execution_count": 11,
   "metadata": {},
   "outputs": [],
   "source": [
    "def generate_adv_list(x_list, y_list, model, eps):\n",
    "    adv_list = []\n",
    "    \n",
    "    for x, y in zip(x_list, y_list):\n",
    "        adv = generate_adv(x, y, model, eps).reshape(784)\n",
    "        adv_list.append(adv)\n",
    "        \n",
    "    return np.array(adv_list)"
   ]
  },
  {
   "cell_type": "code",
   "execution_count": 12,
   "metadata": {
    "scrolled": true
   },
   "outputs": [
    {
     "data": {
      "text/plain": [
       "(100, 784)"
      ]
     },
     "execution_count": 12,
     "metadata": {},
     "output_type": "execute_result"
    }
   ],
   "source": [
    "adv_test = generate_adv_list(X_test[:max_n], y_test[:max_n], model, eps)\n",
    "adv_test.shape"
   ]
  },
  {
   "cell_type": "code",
   "execution_count": 13,
   "metadata": {},
   "outputs": [
    {
     "name": "stdout",
     "output_type": "stream",
     "text": [
      "Test loss : 15.22770034790039\n",
      "Test accuracy : 0.0\n"
     ]
    }
   ],
   "source": [
    "score = model.evaluate(adv_test, y_test_catego[:max_n], verbose=0)\n",
    "print('Test loss :', score[0])\n",
    "print('Test accuracy :', score[1])"
   ]
  },
  {
   "cell_type": "code",
   "execution_count": 14,
   "metadata": {},
   "outputs": [
    {
     "name": "stdout",
     "output_type": "stream",
     "text": [
      "Test loss : 4.2783838143805045e-05\n",
      "Test accuracy : 1.0\n"
     ]
    }
   ],
   "source": [
    "score = model.evaluate(X_test[:max_n], y_test_catego[:max_n], verbose=0)\n",
    "print('Test loss :', score[0])\n",
    "print('Test accuracy :', score[1])"
   ]
  },
  {
   "cell_type": "code",
   "execution_count": 15,
   "metadata": {},
   "outputs": [
    {
     "data": {
      "text/plain": [
       "(100, 784)"
      ]
     },
     "execution_count": 15,
     "metadata": {},
     "output_type": "execute_result"
    }
   ],
   "source": [
    "adv_train = generate_adv_list(X_train[:max_n], y_train[:max_n], model, eps)\n",
    "adv_train.shape"
   ]
  },
  {
   "cell_type": "code",
   "execution_count": 17,
   "metadata": {},
   "outputs": [],
   "source": [
    "batch_size = 128\n",
    "epochs = 20"
   ]
  },
  {
   "cell_type": "code",
   "execution_count": 21,
   "metadata": {},
   "outputs": [
    {
     "name": "stderr",
     "output_type": "stream",
     "text": [
      "W0108 12:49:36.702812 140736235160512 deprecation.py:323] From /Users/ryuto/anaconda3/lib/python3.7/site-packages/tensorflow/python/ops/math_grad.py:1250: add_dispatch_support.<locals>.wrapper (from tensorflow.python.ops.array_ops) is deprecated and will be removed in a future version.\n",
      "Instructions for updating:\n",
      "Use tf.where in 2.0, which has the same broadcast rule as np.where\n"
     ]
    },
    {
     "name": "stdout",
     "output_type": "stream",
     "text": [
      "Train on 100 samples, validate on 10000 samples\n",
      "Epoch 1/20\n",
      "100/100 [==============================] - 3s 26ms/step - loss: 14.9671 - acc: 0.0100 - val_loss: 0.1271 - val_acc: 0.9788\n",
      "Epoch 2/20\n",
      "100/100 [==============================] - 0s 3ms/step - loss: 12.5235 - acc: 0.0700 - val_loss: 0.1709 - val_acc: 0.9691\n",
      "Epoch 3/20\n",
      "100/100 [==============================] - 0s 3ms/step - loss: 8.6631 - acc: 0.1600 - val_loss: 0.1894 - val_acc: 0.9625\n",
      "Epoch 4/20\n",
      "100/100 [==============================] - 0s 3ms/step - loss: 6.8991 - acc: 0.2500 - val_loss: 0.1999 - val_acc: 0.9570\n",
      "Epoch 5/20\n",
      "100/100 [==============================] - 0s 3ms/step - loss: 5.8178 - acc: 0.3000 - val_loss: 0.2283 - val_acc: 0.9499\n",
      "Epoch 6/20\n",
      "100/100 [==============================] - 0s 3ms/step - loss: 5.2878 - acc: 0.3500 - val_loss: 0.2595 - val_acc: 0.9365\n",
      "Epoch 7/20\n",
      "100/100 [==============================] - 0s 3ms/step - loss: 4.7452 - acc: 0.4400 - val_loss: 0.3168 - val_acc: 0.9159\n",
      "Epoch 8/20\n",
      "100/100 [==============================] - 0s 4ms/step - loss: 4.4008 - acc: 0.4700 - val_loss: 0.3058 - val_acc: 0.9183\n",
      "Epoch 9/20\n",
      "100/100 [==============================] - 0s 4ms/step - loss: 4.1664 - acc: 0.5100 - val_loss: 0.3422 - val_acc: 0.9067\n",
      "Epoch 10/20\n",
      "100/100 [==============================] - 0s 3ms/step - loss: 3.8963 - acc: 0.5900 - val_loss: 0.3379 - val_acc: 0.9074\n",
      "Epoch 11/20\n",
      "100/100 [==============================] - 0s 3ms/step - loss: 3.7947 - acc: 0.5800 - val_loss: 0.3758 - val_acc: 0.8925\n",
      "Epoch 12/20\n",
      "100/100 [==============================] - 0s 3ms/step - loss: 3.6721 - acc: 0.6000 - val_loss: 0.3321 - val_acc: 0.9061\n",
      "Epoch 13/20\n",
      "100/100 [==============================] - 0s 4ms/step - loss: 3.4857 - acc: 0.6700 - val_loss: 0.3154 - val_acc: 0.9159\n",
      "Epoch 14/20\n",
      "100/100 [==============================] - 0s 3ms/step - loss: 3.3089 - acc: 0.6600 - val_loss: 0.3099 - val_acc: 0.9148\n",
      "Epoch 15/20\n",
      "100/100 [==============================] - 0s 3ms/step - loss: 3.2317 - acc: 0.7000 - val_loss: 0.3350 - val_acc: 0.9107\n",
      "Epoch 16/20\n",
      "100/100 [==============================] - 0s 3ms/step - loss: 3.1038 - acc: 0.7100 - val_loss: 0.3522 - val_acc: 0.9060\n",
      "Epoch 17/20\n",
      "100/100 [==============================] - 0s 3ms/step - loss: 3.0077 - acc: 0.7100 - val_loss: 0.3162 - val_acc: 0.9172\n",
      "Epoch 18/20\n",
      "100/100 [==============================] - 0s 3ms/step - loss: 2.9147 - acc: 0.7100 - val_loss: 0.3090 - val_acc: 0.9181\n",
      "Epoch 19/20\n",
      "100/100 [==============================] - 0s 3ms/step - loss: 2.7912 - acc: 0.7200 - val_loss: 0.3797 - val_acc: 0.8966\n",
      "Epoch 20/20\n",
      "100/100 [==============================] - 0s 3ms/step - loss: 2.7097 - acc: 0.7800 - val_loss: 0.3247 - val_acc: 0.9170\n",
      "Test loss: 0.3247232620380819\n",
      "Test accuracy: 0.917\n",
      "model saved.\n"
     ]
    }
   ],
   "source": [
    "history = model.fit(adv_train, y_train_catego[:max_n],\n",
    "                    batch_size=batch_size,\n",
    "                    epochs=epochs,\n",
    "                    verbose=1,\n",
    "                    validation_data=(X_test, y_test_catego))\n",
    "score = model.evaluate(X_test, y_test_catego, verbose=0)\n",
    "print('Test loss:', score[0])\n",
    "print('Test accuracy:', score[1])\n",
    "\n",
    "model_json_str = model.to_json()\n",
    "open('advs_train_model.json', 'w').write(model_json_str)\n",
    "model.save_weights('advs_train_weights.h5');\n",
    "print('model saved.')\n"
   ]
  },
  {
   "cell_type": "code",
   "execution_count": 22,
   "metadata": {},
   "outputs": [
    {
     "name": "stdout",
     "output_type": "stream",
     "text": [
      "Test loss : 0.3247232620380819\n",
      "Test accuracy : 0.917\n"
     ]
    }
   ],
   "source": [
    "score = model.evaluate(X_test, y_test_catego, verbose=0)\n",
    "print('Test loss :', score[0])\n",
    "print('Test accuracy :', score[1])"
   ]
  },
  {
   "cell_type": "code",
   "execution_count": 23,
   "metadata": {},
   "outputs": [
    {
     "name": "stdout",
     "output_type": "stream",
     "text": [
      "Test loss : 4.980520210266113\n",
      "Test accuracy : 0.38\n"
     ]
    }
   ],
   "source": [
    "score = model.evaluate(adv_test, y_test_catego[:max_n], verbose=0)\n",
    "print('Test loss :', score[0])\n",
    "print('Test accuracy :', score[1])"
   ]
  },
  {
   "cell_type": "code",
   "execution_count": 24,
   "metadata": {},
   "outputs": [
    {
     "name": "stdout",
     "output_type": "stream",
     "text": [
      "Test loss : 0.2931195068359375\n",
      "Test accuracy : 0.92\n"
     ]
    }
   ],
   "source": [
    "score = model.evaluate(X_test[:max_n], y_test_catego[:max_n], verbose=0)\n",
    "print('Test loss :', score[0])\n",
    "print('Test accuracy :', score[1])"
   ]
  },
  {
   "cell_type": "code",
   "execution_count": null,
   "metadata": {},
   "outputs": [],
   "source": []
  }
 ],
 "metadata": {
  "kernelspec": {
   "display_name": "Python 3",
   "language": "python",
   "name": "python3"
  },
  "language_info": {
   "codemirror_mode": {
    "name": "ipython",
    "version": 3
   },
   "file_extension": ".py",
   "mimetype": "text/x-python",
   "name": "python",
   "nbconvert_exporter": "python",
   "pygments_lexer": "ipython3",
   "version": "3.7.3"
  }
 },
 "nbformat": 4,
 "nbformat_minor": 2
}
